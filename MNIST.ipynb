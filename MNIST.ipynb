{
  "nbformat": 4,
  "nbformat_minor": 0,
  "metadata": {
    "colab": {
      "provenance": [],
      "gpuType": "T4",
      "authorship_tag": "ABX9TyM8/QY2hdOawTD1RQfgopzC",
      "include_colab_link": true
    },
    "kernelspec": {
      "name": "python3",
      "display_name": "Python 3"
    },
    "language_info": {
      "name": "python"
    },
    "accelerator": "GPU"
  },
  "cells": [
    {
      "cell_type": "markdown",
      "metadata": {
        "id": "view-in-github",
        "colab_type": "text"
      },
      "source": [
        "<a href=\"https://colab.research.google.com/github/francis008/MNIST/blob/main/MNIST.ipynb\" target=\"_parent\"><img src=\"https://colab.research.google.com/assets/colab-badge.svg\" alt=\"Open In Colab\"/></a>"
      ]
    },
    {
      "cell_type": "code",
      "execution_count": 1,
      "metadata": {
        "colab": {
          "base_uri": "https://localhost:8080/"
        },
        "id": "O2Ej5zC8rGsn",
        "outputId": "95671fc7-0b78-4d4e-f9d7-d5bdb6cfa402"
      },
      "outputs": [
        {
          "output_type": "stream",
          "name": "stdout",
          "text": [
            "Downloading data from https://storage.googleapis.com/tensorflow/tf-keras-datasets/mnist.npz\n",
            "11490434/11490434 [==============================] - 1s 0us/step\n",
            "Epoch 1/20\n",
            "3750/3750 [==============================] - 20s 4ms/step - loss: 0.1293 - accuracy: 0.9603\n",
            "Epoch 2/20\n",
            "3750/3750 [==============================] - 13s 3ms/step - loss: 0.0479 - accuracy: 0.9863\n",
            "Epoch 3/20\n",
            "3750/3750 [==============================] - 13s 3ms/step - loss: 0.0346 - accuracy: 0.9909\n",
            "Epoch 4/20\n",
            "3750/3750 [==============================] - 13s 3ms/step - loss: 0.0240 - accuracy: 0.9936\n",
            "Epoch 5/20\n",
            "3750/3750 [==============================] - 13s 3ms/step - loss: 0.0176 - accuracy: 0.9956\n",
            "Epoch 6/20\n",
            "3750/3750 [==============================] - 13s 3ms/step - loss: 0.0126 - accuracy: 0.9968\n",
            "Epoch 7/20\n",
            "3750/3750 [==============================] - 13s 3ms/step - loss: 0.0092 - accuracy: 0.9976\n",
            "Epoch 8/20\n",
            "3750/3750 [==============================] - 13s 3ms/step - loss: 0.0059 - accuracy: 0.9985\n",
            "Epoch 9/20\n",
            "3750/3750 [==============================] - 13s 3ms/step - loss: 0.0058 - accuracy: 0.9984\n",
            "Epoch 10/20\n",
            "3750/3750 [==============================] - 13s 3ms/step - loss: 0.0050 - accuracy: 0.9987\n",
            "Epoch 11/20\n",
            "3750/3750 [==============================] - 13s 4ms/step - loss: 0.0038 - accuracy: 0.9992\n",
            "Epoch 12/20\n",
            "3750/3750 [==============================] - 13s 3ms/step - loss: 0.0014 - accuracy: 0.9996\n",
            "Epoch 13/20\n",
            "3750/3750 [==============================] - 13s 3ms/step - loss: 0.0029 - accuracy: 0.9994\n",
            "Epoch 14/20\n",
            "3750/3750 [==============================] - 13s 3ms/step - loss: 0.0024 - accuracy: 0.9993\n",
            "Epoch 15/20\n",
            "3750/3750 [==============================] - 13s 3ms/step - loss: 0.0024 - accuracy: 0.9995\n",
            "Epoch 16/20\n",
            "3750/3750 [==============================] - 13s 3ms/step - loss: 0.0024 - accuracy: 0.9995\n",
            "Epoch 17/20\n",
            "3750/3750 [==============================] - 13s 3ms/step - loss: 0.0012 - accuracy: 0.9997\n",
            "Epoch 18/20\n",
            "3750/3750 [==============================] - 12s 3ms/step - loss: 0.0014 - accuracy: 0.9996\n",
            "Epoch 19/20\n",
            "3750/3750 [==============================] - 12s 3ms/step - loss: 9.3352e-04 - accuracy: 0.9997\n",
            "Epoch 20/20\n",
            "3750/3750 [==============================] - 13s 4ms/step - loss: 5.0142e-04 - accuracy: 0.9998\n"
          ]
        },
        {
          "output_type": "execute_result",
          "data": {
            "text/plain": [
              "<keras.src.callbacks.History at 0x7b9cccb1d990>"
            ]
          },
          "metadata": {},
          "execution_count": 1
        }
      ],
      "source": [
        "\n",
        "     import tensorflow as tf\n",
        "     from tensorflow.keras.models import Sequential\n",
        "     from tensorflow.keras.layers import Dense, Dropout, Flatten, Conv2D, MaxPooling2D\n",
        "\n",
        "     # Load and preprocess data\n",
        "     mnist = tf.keras.datasets.mnist\n",
        "     (x_train, y_train), (x_test, y_test) = mnist.load_data()\n",
        "     x_train, x_test = x_train / 255.0, x_test / 255.0\n",
        "     x_train = x_train[..., tf.newaxis]\n",
        "     x_test = x_test[..., tf.newaxis]\n",
        "\n",
        "     # Building the model\n",
        "     model = Sequential([\n",
        "         Conv2D(32, (3, 3), activation='relu', input_shape=(28, 28, 1)),\n",
        "         MaxPooling2D((2, 2),(1,1)),\n",
        "         Flatten(),\n",
        "         Dense(128, activation='relu'),\n",
        "         Dense(128, activation='relu'),\n",
        "         Dropout(0.05),\n",
        "         Dense(10, activation='softmax')\n",
        "     ])\n",
        "\n",
        "     # Compiling the model\n",
        "     model.compile(optimizer='rmsprop',\n",
        "                   loss='sparse_categorical_crossentropy',\n",
        "                   metrics=['accuracy'])\n",
        "\n",
        "     # Training the model\n",
        "     model.fit(x_train, y_train, epochs=20, batch_size=16)\n"
      ]
    },
    {
      "cell_type": "code",
      "source": [
        "loss, accuracy = model.evaluate(x_test, y_test)\n",
        "print(f\"Model Accuracy: {accuracy*100:.2f}%\")\n"
      ],
      "metadata": {
        "colab": {
          "base_uri": "https://localhost:8080/"
        },
        "id": "WJrjSiz9ruW0",
        "outputId": "847c47d1-ca21-4feb-c4f9-3cc1b417bc20"
      },
      "execution_count": 2,
      "outputs": [
        {
          "output_type": "stream",
          "name": "stdout",
          "text": [
            "313/313 [==============================] - 1s 2ms/step - loss: 0.1543 - accuracy: 0.9883\n",
            "Model Accuracy: 98.83%\n"
          ]
        }
      ]
    }
  ]
}